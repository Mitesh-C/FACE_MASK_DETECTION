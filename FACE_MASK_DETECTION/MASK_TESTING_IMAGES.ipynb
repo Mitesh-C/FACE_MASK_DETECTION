{
 "cells": [
  {
   "cell_type": "code",
   "execution_count": 1,
   "id": "89b0474a",
   "metadata": {},
   "outputs": [],
   "source": [
    "from tensorflow.keras.applications.mobilenet_v2 import preprocess_input\n",
    "from tensorflow.keras.preprocessing.image import img_to_array\n",
    "from tensorflow.keras.models import load_model\n",
    "import numpy as np\n",
    "import cv2\n",
    "import os"
   ]
  },
  {
   "cell_type": "code",
   "execution_count": 2,
   "id": "75716cf3",
   "metadata": {},
   "outputs": [],
   "source": [
    "prototxtPath = os.path.sep.join([r'E:\\FACE_MASK_DETECTION\\MASK_NO_MASK\\faceDetection',\n",
    "                                 'deploy.prototxt'])\n",
    "weightPath = os.path.sep.join([r'E:\\FACE_MASK_DETECTION\\MASK_NO_MASK\\faceDetection',\n",
    "                               'res10_300x300_ssd_iter_140000.caffemodel'])"
   ]
  },
  {
   "cell_type": "code",
   "execution_count": 3,
   "id": "84d53b07",
   "metadata": {},
   "outputs": [],
   "source": [
    "net=cv2.dnn.readNet(prototxtPath,weightPath)"
   ]
  },
  {
   "cell_type": "code",
   "execution_count": 4,
   "id": "8f8230c2",
   "metadata": {},
   "outputs": [],
   "source": [
    "model = load_model(r'E:\\FACE_MASK_DETECTION\\MASK_NO_MASK\\mask_no_mask.model')"
   ]
  },
  {
   "cell_type": "code",
   "execution_count": 55,
   "id": "5b069283",
   "metadata": {},
   "outputs": [],
   "source": [
    "img = cv2.imread(r'E:\\FACE_MASK_DETECTION\\MASK_NO_MASK\\examples\\ex4.jpg')\n",
    "img = cv2.resize(img,(224,224))"
   ]
  },
  {
   "cell_type": "code",
   "execution_count": 56,
   "id": "874e275a",
   "metadata": {},
   "outputs": [],
   "source": [
    "(h,w) = img.shape[:2]"
   ]
  },
  {
   "cell_type": "code",
   "execution_count": 57,
   "id": "71a1c960",
   "metadata": {},
   "outputs": [
    {
     "data": {
      "text/plain": [
       "(224, 224)"
      ]
     },
     "execution_count": 57,
     "metadata": {},
     "output_type": "execute_result"
    }
   ],
   "source": [
    "(h,w)"
   ]
  },
  {
   "cell_type": "code",
   "execution_count": 58,
   "id": "174585a4",
   "metadata": {},
   "outputs": [],
   "source": [
    "blob = cv2.dnn.blobFromImage(img,1.0,(300,300),(104.0,177.0,123.0))\n"
   ]
  },
  {
   "cell_type": "code",
   "execution_count": 59,
   "id": "9de2332c",
   "metadata": {},
   "outputs": [
    {
     "data": {
      "text/plain": [
       "array([[[[ -84.,  -83.,  -82., ...,  103.,   95.,   87.],\n",
       "         [ -84.,  -83.,  -83., ...,  103.,   95.,   88.],\n",
       "         [ -83.,  -83.,  -83., ...,  103.,   95.,   88.],\n",
       "         ...,\n",
       "         [ -75.,  -75.,  -75., ...,  124.,  125.,  123.],\n",
       "         [ -75.,  -75.,  -75., ...,  122.,  123.,  123.],\n",
       "         [ -74.,  -75.,  -75., ...,  121.,  122.,  122.]],\n",
       "\n",
       "        [[-163., -163., -163., ...,   16.,    8.,    0.],\n",
       "         [-163., -163., -163., ...,   16.,    8.,    0.],\n",
       "         [-163., -164., -163., ...,   17.,    8.,    1.],\n",
       "         ...,\n",
       "         [-156., -157., -157., ...,   40.,   41.,   39.],\n",
       "         [-156., -157., -157., ...,   38.,   39.,   38.],\n",
       "         [-155., -156., -158., ...,   37.,   38.,   38.]],\n",
       "\n",
       "        [[-122., -122., -122., ...,   71.,   63.,   56.],\n",
       "         [-122., -123., -123., ...,   71.,   63.,   56.],\n",
       "         [-122., -123., -123., ...,   71.,   63.,   56.],\n",
       "         ...,\n",
       "         [-119., -118., -117., ...,   97.,   97.,   95.],\n",
       "         [-119., -118., -117., ...,   95.,   96.,   95.],\n",
       "         [-118., -118., -118., ...,   93.,   95.,   95.]]]], dtype=float32)"
      ]
     },
     "execution_count": 59,
     "metadata": {},
     "output_type": "execute_result"
    }
   ],
   "source": [
    "blob"
   ]
  },
  {
   "cell_type": "code",
   "execution_count": 60,
   "id": "44b0ff22",
   "metadata": {},
   "outputs": [
    {
     "data": {
      "text/plain": [
       "(1, 3, 300, 300)"
      ]
     },
     "execution_count": 60,
     "metadata": {},
     "output_type": "execute_result"
    }
   ],
   "source": [
    "blob.shape"
   ]
  },
  {
   "cell_type": "code",
   "execution_count": 61,
   "id": "ddff8b7f",
   "metadata": {},
   "outputs": [],
   "source": [
    "net.setInput(blob)\n",
    "detections = net.forward()"
   ]
  },
  {
   "cell_type": "code",
   "execution_count": 62,
   "id": "325ec993",
   "metadata": {},
   "outputs": [],
   "source": [
    "for i in range(0,detections.shape[2]):\n",
    "    confidence = detections[0,0,i,2]\n",
    "    \n",
    "    if confidence > 0.5:\n",
    "        box=detections[0,0,i,3:7]*np.array([w,h,w,h])\n",
    "        (startX,startY,endX,endY) = box.astype('int')\n",
    "        \n",
    "        (startX,startY) = (max(0,startX),max(0,startY))\n",
    "        (endX,endY) = (min(w-1,endX), min(h-1,endY))\n",
    "        \n",
    "        face=img[startY:endY, startX:endX]\n",
    "        face=cv2.cvtColor(face,cv2.COLOR_BGR2RGB)\n",
    "        face=cv2.resize(face,(224,224))\n",
    "        face=img_to_array(face)\n",
    "        face=preprocess_input(face)\n",
    "        face=np.expand_dims(face,axis=0)\n",
    "        \n",
    "        (mask,withoutMask)=model.predict(face)[0]\n",
    "        \n",
    "        label='Mask' if mask>withoutMask else 'No Mask'\n",
    "        color=(0,255,0) if label == 'Mask' else (0,0,255)\n",
    "        \n",
    "        label = \"{}: {:.2f}%\".format(label,max(mask,withoutMask)*100)\n",
    "        \n",
    "        cv2.putText(img,label,(startX,startY-10),cv2.FONT_HERSHEY_SIMPLEX,0.45,color,2)\n",
    "        cv2.rectangle(img,(startX,startY),(endX,endY),color,2)\n",
    "        \n",
    "cv2.imshow(\"OUTPUT\",img)\n",
    "cv2.waitKey(0)\n",
    "cv2.destroyAllWindows()\n",
    "        "
   ]
  },
  {
   "cell_type": "code",
   "execution_count": null,
   "id": "7f93fd03",
   "metadata": {},
   "outputs": [],
   "source": []
  }
 ],
 "metadata": {
  "kernelspec": {
   "display_name": "Python 3",
   "language": "python",
   "name": "python3"
  },
  "language_info": {
   "codemirror_mode": {
    "name": "ipython",
    "version": 3
   },
   "file_extension": ".py",
   "mimetype": "text/x-python",
   "name": "python",
   "nbconvert_exporter": "python",
   "pygments_lexer": "ipython3",
   "version": "3.9.5"
  }
 },
 "nbformat": 4,
 "nbformat_minor": 5
}
